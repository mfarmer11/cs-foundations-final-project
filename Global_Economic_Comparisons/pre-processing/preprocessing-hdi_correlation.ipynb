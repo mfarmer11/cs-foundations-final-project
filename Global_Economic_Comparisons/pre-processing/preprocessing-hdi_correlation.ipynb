{
 "cells": [
  {
   "cell_type": "code",
   "execution_count": null,
   "metadata": {},
   "outputs": [],
   "source": [
    "#Since we know the time frame are for particular years we can go ahead and select those columns\n",
    "states = states[[\"Country Name\", \"Indicator Name\", \"Indicator Code\", \"2004\", \"2005\",\"2006\",\"2007\",\n",
    "        \"2008\",\"2009\",\"2010\",\"2011\",\"2012\",\"2013\"]]"
   ]
  },
  {
   "cell_type": "code",
   "execution_count": null,
   "metadata": {},
   "outputs": [],
   "source": [
    "#Select specific economic, social, and health data\n",
    "\n",
    "states = states[states['Indicator Code'].isin([\"NY.GNP.PCAP.KD.ZG\", \"NY.GNP.PCAP.KD\",\"NY.GNP.MKTP.CD\",\"SH.XPD.CHEX.PC.CD\",\n",
    "                                               'SI.POV.UMIC','IT.NET.USER.ZS','SL.UEM.TOTL.ZS','NE.CON.PRVT.KD.ZG','SP.POP.DPND'])]"
   ]
  },
  {
   "cell_type": "code",
   "execution_count": null,
   "metadata": {},
   "outputs": [],
   "source": [
    "#Sort data frame by metric so all countries for each metric are next to each other\n",
    "states = states.sort_values(\"Indicator Code\")"
   ]
  },
  {
   "cell_type": "code",
   "execution_count": null,
   "metadata": {},
   "outputs": [],
   "source": [
    "states"
   ]
  },
  {
   "cell_type": "code",
   "execution_count": null,
   "metadata": {},
   "outputs": [],
   "source": [
    "#To better work and vizualze data, will partiion this main DF into smaller ones by metric"
   ]
  },
  {
   "cell_type": "code",
   "execution_count": null,
   "metadata": {},
   "outputs": [],
   "source": [
    "#GNI per capita growth (annual %)\tNY.GNP.PCAP.KD.ZG\n",
    "\n",
    "gni_pc_g= states.loc[states['Indicator Code'] == 'NY.GNP.PCAP.KD.ZG']"
   ]
  },
  {
   "cell_type": "code",
   "execution_count": null,
   "metadata": {},
   "outputs": [],
   "source": [
    "gni_pc_g = gni_pc_g.drop(gni_pc_g.ix[:,'Indicator Name':'Indicator Code'].head(0).columns, axis=1)\n",
    "gni_pc_g.set_index('Country Name', inplace=True)\n",
    "gni_pc_g = gni_pc_g.T\n",
    "gni_pc_g.index = pd.to_datetime(gni_pc_g.index)"
   ]
  },
  {
   "cell_type": "code",
   "execution_count": null,
   "metadata": {},
   "outputs": [],
   "source": [
    "#GNI per capita (constant 2010 US$)\n",
    "gni_pc_value = states.loc[states['Indicator Code'] == 'NY.GNP.PCAP.KD']"
   ]
  },
  {
   "cell_type": "code",
   "execution_count": null,
   "metadata": {},
   "outputs": [],
   "source": [
    "gni_pc_value= gni_pc_value.drop(gni_pc_value.ix[:,'Indicator Name':'Indicator Code'].head(0).columns, axis=1)\n",
    "gni_pc_value.set_index('Country Name', inplace=True)\n",
    "gni_pc_value = gni_pc_value.T\n",
    "gni_pc_value.index = pd.to_datetime(gni_pc_value.index)"
   ]
  },
  {
   "cell_type": "code",
   "execution_count": null,
   "metadata": {},
   "outputs": [],
   "source": [
    "#GNI (current US$)\n",
    "gni = states.loc[states['Indicator Code'] == 'NY.GNP.MKTP.CD']"
   ]
  },
  {
   "cell_type": "code",
   "execution_count": null,
   "metadata": {},
   "outputs": [],
   "source": [
    "gni = gni.drop(gni.ix[:,'Indicator Name':'Indicator Code'].head(0).columns, axis=1)\n",
    "gni.set_index('Country Name', inplace=True)\n",
    "gni = gni.T\n",
    "gni.index = pd.to_datetime(gni.index)"
   ]
  },
  {
   "cell_type": "code",
   "execution_count": null,
   "metadata": {},
   "outputs": [],
   "source": [
    "#Current health expenditure per capita (current US$)\n",
    "\n",
    "chc = states.loc[states[\"Indicator Code\"] == \"SH.XPD.CHEX.PC.CD\"]\n",
    "chc = chc.drop(chc.ix[:,'Indicator Name':'Indicator Code'].head(0).columns, axis=1)\n",
    "chc.set_index('Country Name', inplace=True)\n",
    "chc = chc.T\n",
    "chc.index = pd.to_datetime(chc.index)"
   ]
  },
  {
   "cell_type": "code",
   "execution_count": null,
   "metadata": {},
   "outputs": [],
   "source": [
    "#Poverty headcount ratio at $5.50 a day (2011 PPP) (% of population)\n",
    "\n",
    "pv = states.loc[states[\"Indicator Code\"] == \"SI.POV.UMIC\"]\n",
    "pv = pv.drop(pv.ix[:,'Indicator Name':'Indicator Code'].head(0).columns, axis=1)\n",
    "pv.set_index('Country Name', inplace=True)\n",
    "pv = pv.T\n",
    "pv.index = pd.to_datetime(pv.index)"
   ]
  },
  {
   "cell_type": "code",
   "execution_count": null,
   "metadata": {},
   "outputs": [],
   "source": [
    "#Individuals using the Internet (% of population)\tIT.NET.USER.ZS\n",
    "\n",
    "pi = states.loc[states[\"Indicator Code\"] == \"IT.NET.USER.ZS\"]\n",
    "pi = pi.drop(pi.ix[:,'Indicator Name':'Indicator Code'].head(0).columns, axis=1)\n",
    "pi.set_index('Country Name', inplace=True)\n",
    "pi = pi.T\n",
    "pi.index = pd.to_datetime(pi.index)"
   ]
  },
  {
   "cell_type": "code",
   "execution_count": null,
   "metadata": {},
   "outputs": [],
   "source": [
    "#Unemployment, total (% of total labor force) (modeled ILO estimate)\n",
    "\n",
    "urt = states.loc[states[\"Indicator Code\"] == \"SL.UEM.TOTL.ZS\"]\n",
    "urt = urt.drop(urt.ix[:,'Indicator Name':'Indicator Code'].head(0).columns, axis=1)\n",
    "urt.set_index('Country Name', inplace=True)\n",
    "urt = urt.T\n",
    "urt.index = pd.to_datetime(urt.index)"
   ]
  },
  {
   "cell_type": "code",
   "execution_count": null,
   "metadata": {},
   "outputs": [],
   "source": [
    "#Households and NPISHs Final consumption expenditure (annual % growth)\n",
    "\n",
    "hsc = states.loc[states[\"Indicator Code\"] == \"NE.CON.PRVT.KD.ZG\"]\n",
    "hsc = hsc.drop(hsc.ix[:,'Indicator Name':'Indicator Code'].head(0).columns, axis=1)\n",
    "hsc.set_index('Country Name', inplace=True)\n",
    "hsc = hsc.T\n",
    "hsc.index = pd.to_datetime(hsc.index)"
   ]
  },
  {
   "cell_type": "code",
   "execution_count": null,
   "metadata": {},
   "outputs": [],
   "source": [
    "#Age dependency ratio (% of working-age population)\n",
    "\n",
    "adr = states.loc[states[\"Indicator Code\"] == \"SP.POP.DPND\"]\n",
    "adr = adr.drop(adr.ix[:,'Indicator Name':'Indicator Code'].head(0).columns, axis=1)\n",
    "adr.set_index('Country Name', inplace=True)\n",
    "adr = adr.T\n",
    "adr.index = pd.to_datetime(adr.index)"
   ]
  },
  {
   "cell_type": "code",
   "execution_count": null,
   "metadata": {},
   "outputs": [],
   "source": [
    "#create a differnt df for US values only for later analysis\n",
    "hdi_us = hdi[[\"Country\", '1991','1994','1997','2000','2004','2007','2010','2013']]"
   ]
  },
  {
   "cell_type": "code",
   "execution_count": null,
   "metadata": {},
   "outputs": [],
   "source": [
    "#Select time frame years\n",
    "hdi = hdi[[\"Country\",'2004','2007','2010','2013']]"
   ]
  },
  {
   "cell_type": "code",
   "execution_count": null,
   "metadata": {},
   "outputs": [],
   "source": [
    "#Select countries\n",
    "hdi = hdi.loc[[6,44,179,178,176,166,138,65,126,46,72]]  "
   ]
  },
  {
   "cell_type": "code",
   "execution_count": null,
   "metadata": {},
   "outputs": [],
   "source": [
    "#As per earlier analysis, focus only on US years that have GINI index data\n",
    "#Focusing on only one country there are more metrics that can be added\n",
    "\n",
    "usa = usa1[[\"Country Name\", \"Indicator Name\", \"Indicator Code\",\n",
    "            '1979','1986','1991','1994','1997','2000','2004','2007','2010','2013','2016']]"
   ]
  },
  {
   "cell_type": "code",
   "execution_count": null,
   "metadata": {},
   "outputs": [],
   "source": [
    "#Focusing on only one country there are more metrics that can be added\n",
    "usa = usa[usa['Indicator Code'].isin([\"NY.GNP.PCAP.KD.ZG\", \"NY.GNP.PCAP.KD\",\"NY.GNP.MKTP.CD\",\"SH.XPD.CHEX.PC.CD\",\n",
    "                                     'SI.POV.UMIC','IT.NET.USER.ZS','SL.UEM.TOTL.ZS','NE.CON.PRVT.KD.ZG','SP.POP.DPND',\n",
    "                                     \"NY.GDP.MKTP.KD.ZG\",\"GC.TAX.TOTL.GD.ZS\",\"SI.POV.GINI\",\"SL.IND.EMPL.ZS\",\"GC.TAX.YPKG.ZS\",\n",
    "                                     \"SL.UEM.1524.ZS\",\"SI.POV.UMIC\",\"NY.GDP.PCAP.KD.ZG\"])]"
   ]
  },
  {
   "cell_type": "code",
   "execution_count": null,
   "metadata": {},
   "outputs": [],
   "source": [
    "# Only select the United States\n",
    "\n",
    "us = usa.loc[usa[\"Country Name\"] == \"United States\"]"
   ]
  },
  {
   "cell_type": "code",
   "execution_count": null,
   "metadata": {},
   "outputs": [],
   "source": [
    "us = us.sort_values('Indicator Code')"
   ]
  },
  {
   "cell_type": "code",
   "execution_count": null,
   "metadata": {},
   "outputs": [],
   "source": [
    "us"
   ]
  },
  {
   "cell_type": "code",
   "execution_count": null,
   "metadata": {},
   "outputs": [],
   "source": [
    "us = us.reset_index(drop=True)"
   ]
  },
  {
   "cell_type": "code",
   "execution_count": null,
   "metadata": {},
   "outputs": [],
   "source": [
    "us"
   ]
  },
  {
   "cell_type": "code",
   "execution_count": null,
   "metadata": {},
   "outputs": [],
   "source": [
    "del us[\"1979\"]\n",
    "del us[\"1986\"]\n",
    "del us[\"2016\"]\n",
    "us = us.drop(us.index[9])"
   ]
  },
  {
   "cell_type": "code",
   "execution_count": null,
   "metadata": {},
   "outputs": [],
   "source": [
    "#unfortunatley there was no individual health or educational data for years with GINI Index data\n",
    "#Hence, will use the Human Development Index in their place from the United Nations Development Program\n",
    "#Read in UN data for the United States\n",
    "us_hdi = hdi_us.iloc[179]\n",
    "us_hdi"
   ]
  },
  {
   "cell_type": "code",
   "execution_count": null,
   "metadata": {},
   "outputs": [],
   "source": [
    "#reformat hdi data to fit the world bank data set and change HDI values from decimal to percent(x100)\n",
    "nhdi  = {'Country Name': \"United States\",\n",
    "        'Indicator Name': \"Human Development Index\",\n",
    "        'Indicator Code': \"HDI\",\n",
    "        '1991': 86.1,\n",
    "        '1994': 87.4,\n",
    "        '1997': 88.1,\n",
    "        '2000': 88.4,\n",
    "        '2004': 89.5,\n",
    "        '2007': 90.5,\n",
    "        '2010': 91.0,\n",
    "        '2013': 91.6}"
   ]
  },
  {
   "cell_type": "code",
   "execution_count": null,
   "metadata": {},
   "outputs": [],
   "source": [
    "us_hdi = pd.DataFrame(list(nhdi.items()), columns=[\"Column\", \"values\"])"
   ]
  },
  {
   "cell_type": "code",
   "execution_count": null,
   "metadata": {},
   "outputs": [],
   "source": [
    "us_hdi = us_hdi.T\n",
    "us_hdi.columns = us_hdi.iloc[0]"
   ]
  },
  {
   "cell_type": "code",
   "execution_count": null,
   "metadata": {},
   "outputs": [],
   "source": [
    "us_hdi = us_hdi.reset_index(drop=True)\n",
    "us_hdi.drop([0])"
   ]
  },
  {
   "cell_type": "code",
   "execution_count": null,
   "metadata": {},
   "outputs": [],
   "source": [
    "frames = [us, us_hdi]"
   ]
  },
  {
   "cell_type": "code",
   "execution_count": null,
   "metadata": {},
   "outputs": [],
   "source": [
    "usa_final = pd.concat(frames, keys=[\"Country Name\", \"Indicator Name\", \"Indicator Code\", \"1991\",\"1994\",\"1997\",\"2000\",\"2004\",\"2007\",\"2010\",\"2013\"])"
   ]
  },
  {
   "cell_type": "code",
   "execution_count": null,
   "metadata": {},
   "outputs": [],
   "source": [
    "usa_final = usa_final.reset_index(drop=True)"
   ]
  },
  {
   "cell_type": "code",
   "execution_count": null,
   "metadata": {},
   "outputs": [],
   "source": [
    "#drop GNI because it is too big to compare with due to scale and get rid of a string row\n",
    "usa_final = usa_final.drop(usa_final.index[[15,6]])"
   ]
  },
  {
   "cell_type": "code",
   "execution_count": null,
   "metadata": {},
   "outputs": [],
   "source": [
    "#cant use GNI/capita because of scale \n",
    "#nor change in internent users because it is too big  of a differnce compared to other metrics\n",
    "\n",
    "usa_change = pd.concat([usa_final.loc[:1], usa_final.loc[3:5], usa_final.loc[8:]])"
   ]
  },
  {
   "cell_type": "code",
   "execution_count": null,
   "metadata": {},
   "outputs": [],
   "source": [
    "usa_change"
   ]
  },
  {
   "cell_type": "code",
   "execution_count": null,
   "metadata": {},
   "outputs": [],
   "source": [
    "#create a change column to see changes from 1991 to 2013\n",
    "usa_change[\"Change\"]= ((usa_change[\"2013\"] - usa_change[\"1991\"]))"
   ]
  },
  {
   "cell_type": "code",
   "execution_count": null,
   "metadata": {},
   "outputs": [],
   "source": [
    "# delete string columns\n",
    "usa_change\n",
    "del usa_change[\"Country Name\"]\n",
    "del usa_change[\"Indicator Code\"]"
   ]
  },
  {
   "cell_type": "code",
   "execution_count": null,
   "metadata": {},
   "outputs": [],
   "source": [
    "#make metrics the index for graphing\n",
    "usa_change.set_index('Indicator Name', inplace=True)"
   ]
  },
  {
   "cell_type": "code",
   "execution_count": null,
   "metadata": {},
   "outputs": [],
   "source": [
    "#prepare data for correlation analysis\n",
    "del usa_final[\"Country Name\"]\n",
    "del usa_final[\"Indicator Code\"]\n",
    "usa_final.set_index('Indicator Name', inplace=True)\n",
    "usa_final = usa_final.apply(pd.to_numeric)"
   ]
  },
  {
   "cell_type": "code",
   "execution_count": null,
   "metadata": {},
   "outputs": [],
   "source": [
    "uf = usa_final.T"
   ]
  }
 ],
 "metadata": {
  "kernelspec": {
   "display_name": "Python 3",
   "language": "python",
   "name": "python3"
  },
  "language_info": {
   "codemirror_mode": {
    "name": "ipython",
    "version": 3
   },
   "file_extension": ".py",
   "mimetype": "text/x-python",
   "name": "python",
   "nbconvert_exporter": "python",
   "pygments_lexer": "ipython3",
   "version": "3.6.4"
  }
 },
 "nbformat": 4,
 "nbformat_minor": 2
}
