{
 "cells": [
  {
   "cell_type": "code",
   "execution_count": null,
   "metadata": {},
   "outputs": [],
   "source": [
    "#Add a new collumn to see the amount in Gini Coefficent from 2004-2013\n",
    "gini1[\"Change\"] = ((gini1[\"2013\"] - gini1[\"2004\"]))"
   ]
  },
  {
   "cell_type": "code",
   "execution_count": null,
   "metadata": {},
   "outputs": [],
   "source": [
    "#Create a change column in HDI\n",
    "hdi[\"Change\"] = ((hdi[\"2013\"] - hdi[\"2004\"]))"
   ]
  },
  {
   "cell_type": "code",
   "execution_count": null,
   "metadata": {},
   "outputs": [],
   "source": [
    "#perform a simple correlation analysis between the GINI index of the US and another metric\n",
    "\n",
    "gini_txr = uf['GINI index (World Bank estimate)'].corr(uf['Tax revenue (% of GDP)'])\n",
    "gini_txi = uf['GINI index (World Bank estimate)'].corr(uf['Taxes on income, profits and capital gains (% of total taxes)'])\n",
    "gini_i = uf['GINI index (World Bank estimate)'].corr(uf['Individuals using the Internet (% of population)'])\n",
    "gini_hc = uf['GINI index (World Bank estimate)'].corr(uf['Households and NPISHs Final consumption expenditure (annual % growth)'])\n",
    "gini_gdp_rt = uf['GINI index (World Bank estimate)'].corr(uf['GDP growth (annual %)'])\n",
    "gini_gdp_pc_rt = uf['GINI index (World Bank estimate)'].corr(uf['GDP per capita growth (annual %)'])\n",
    "gini_gni_pc = uf['GINI index (World Bank estimate)'].corr(uf['GNI per capita (constant 2010 US$)'])\n",
    "gini_gni_pc_rt = uf['GINI index (World Bank estimate)'].corr(uf['GNI per capita growth (annual %)'])\n",
    "gini_pr = uf['GINI index (World Bank estimate)'].corr(uf['Poverty headcount ratio at $5.50 a day (2011 PPP) (% of population)'])\n",
    "gini_ei = uf['GINI index (World Bank estimate)'].corr(uf['Employment in industry (% of total employment) (modeled ILO estimate)'])\n",
    "gini_yth_urt = uf['GINI index (World Bank estimate)'].corr(uf['Unemployment, youth total (% of total labor force ages 15-24) (modeled ILO estimate)'])\n",
    "gini_urt = uf['GINI index (World Bank estimate)'].corr(uf['Unemployment, total (% of total labor force) (modeled ILO estimate)'])\n",
    "gini_adr = uf['GINI index (World Bank estimate)'].corr(uf['Age dependency ratio (% of working-age population)'])\n",
    "gini_hdi = uf['GINI index (World Bank estimate)'].corr(uf['Human Development Index'])"
   ]
  },
  {
   "cell_type": "code",
   "execution_count": null,
   "metadata": {},
   "outputs": [],
   "source": [
    "#Store correlation values in a diction for easy access\n",
    "\n",
    "us_correlation_dict = [{\"Tax rev as GDP\":gini_txr, \"Tax rev on income\":gini_txi, \"Internet users\":gini_i,\n",
    "                        \"Household Consumption\":gini_hc, \"GDP growth\": gini_gdp_rt, \"GDP per capita grwoth\": gini_gdp_pc_rt,\n",
    "                       \"GNI per capita\": gini_gni_pc, \"GNI per capita growth\": gini_gni_pc_rt,\n",
    "                        \"Poverty at $5.5 a day\": gini_pr, \"Employment in industry sector\": gini_ei,\n",
    "                        \"Youth unemployment rate\": gini_yth_urt, \"Unemployment rate\": gini_urt,\n",
    "                        \"Age dependency ration\": gini_adr, \"Hunman Development Index\": gini_hdi}]"
   ]
  },
  {
   "cell_type": "code",
   "execution_count": null,
   "metadata": {},
   "outputs": [],
   "source": [
    "#Convert dictionary to a dataframe\n",
    "us_corr = pd.DataFrame(us_correlation_dict)"
   ]
  },
  {
   "cell_type": "code",
   "execution_count": null,
   "metadata": {},
   "outputs": [],
   "source": [
    "#transpose data frame\n",
    "us_corr = us_corr.T"
   ]
  },
  {
   "cell_type": "code",
   "execution_count": null,
   "metadata": {},
   "outputs": [],
   "source": [
    "#rename column with r values to \"Correlation\"\n",
    "us_corr.columns = [\"Correlation\"]"
   ]
  }
 ],
 "metadata": {
  "kernelspec": {
   "display_name": "Python 3",
   "language": "python",
   "name": "python3"
  },
  "language_info": {
   "codemirror_mode": {
    "name": "ipython",
    "version": 3
   },
   "file_extension": ".py",
   "mimetype": "text/x-python",
   "name": "python",
   "nbconvert_exporter": "python",
   "pygments_lexer": "ipython3",
   "version": "3.6.5"
  }
 },
 "nbformat": 4,
 "nbformat_minor": 2
}
